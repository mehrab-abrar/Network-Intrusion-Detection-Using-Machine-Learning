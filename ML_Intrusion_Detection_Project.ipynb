{
 "cells": [
  {
   "cell_type": "markdown",
   "id": "c2efa7a3",
   "metadata": {},
   "source": [
    "# Network Intrusion Detection based on Machine Learning"
   ]
  },
  {
   "cell_type": "code",
   "execution_count": 1,
   "id": "aa14e2b0",
   "metadata": {
    "scrolled": true
   },
   "outputs": [],
   "source": [
    "import numpy as np\n",
    "import pandas as pd\n",
    "from sklearn.feature_selection import VarianceThreshold\n",
    "from sklearn.model_selection import RandomizedSearchCV\n",
    "from sklearn.preprocessing import MinMaxScaler\n",
    "from sklearn.preprocessing import StandardScaler\n",
    "from sklearn.model_selection import StratifiedKFold\n",
    "from sklearn.preprocessing import LabelEncoder\n",
    "from sklearn.metrics import confusion_matrix\n",
    "from sklearn.metrics import classification_report, accuracy_score\n",
    "from scipy.stats import uniform, randint\n",
    "import warnings"
   ]
  },
  {
   "cell_type": "markdown",
   "id": "e15011a7",
   "metadata": {},
   "source": [
    "# Reading the Dataset"
   ]
  },
  {
   "cell_type": "code",
   "execution_count": 2,
   "id": "53e95f60",
   "metadata": {
    "scrolled": true
   },
   "outputs": [],
   "source": [
    "data = pd.read_csv(\"network_intrusion_dataset.csv\")"
   ]
  },
  {
   "cell_type": "markdown",
   "id": "bb7c2c87",
   "metadata": {},
   "source": [
    "$head()$ will display the top 5 observations of the dataset"
   ]
  },
  {
   "cell_type": "code",
   "execution_count": 3,
   "id": "e83362fb",
   "metadata": {
    "scrolled": false
   },
   "outputs": [
    {
     "data": {
      "text/html": [
       "<div>\n",
       "<style scoped>\n",
       "    .dataframe tbody tr th:only-of-type {\n",
       "        vertical-align: middle;\n",
       "    }\n",
       "\n",
       "    .dataframe tbody tr th {\n",
       "        vertical-align: top;\n",
       "    }\n",
       "\n",
       "    .dataframe thead th {\n",
       "        text-align: right;\n",
       "    }\n",
       "</style>\n",
       "<table border=\"1\" class=\"dataframe\">\n",
       "  <thead>\n",
       "    <tr style=\"text-align: right;\">\n",
       "      <th></th>\n",
       "      <th>duration</th>\n",
       "      <th>protocol_type</th>\n",
       "      <th>service</th>\n",
       "      <th>flag</th>\n",
       "      <th>src_bytes</th>\n",
       "      <th>dst_bytes</th>\n",
       "      <th>land</th>\n",
       "      <th>wrong_fragment</th>\n",
       "      <th>urgent</th>\n",
       "      <th>hot</th>\n",
       "      <th>...</th>\n",
       "      <th>dst_host_srv_count</th>\n",
       "      <th>dst_host_same_srv_rate</th>\n",
       "      <th>dst_host_diff_srv_rate</th>\n",
       "      <th>dst_host_same_src_port_rate</th>\n",
       "      <th>dst_host_srv_diff_host_rate</th>\n",
       "      <th>dst_host_serror_rate</th>\n",
       "      <th>dst_host_srv_serror_rate</th>\n",
       "      <th>dst_host_rerror_rate</th>\n",
       "      <th>dst_host_srv_rerror_rate</th>\n",
       "      <th>class</th>\n",
       "    </tr>\n",
       "  </thead>\n",
       "  <tbody>\n",
       "    <tr>\n",
       "      <th>0</th>\n",
       "      <td>0</td>\n",
       "      <td>tcp</td>\n",
       "      <td>private</td>\n",
       "      <td>REJ</td>\n",
       "      <td>0.0</td>\n",
       "      <td>0.0</td>\n",
       "      <td>0</td>\n",
       "      <td>0</td>\n",
       "      <td>0</td>\n",
       "      <td>0</td>\n",
       "      <td>...</td>\n",
       "      <td>1</td>\n",
       "      <td>0.00</td>\n",
       "      <td>0.06</td>\n",
       "      <td>0.00</td>\n",
       "      <td>0.00</td>\n",
       "      <td>0.00</td>\n",
       "      <td>0.0</td>\n",
       "      <td>1.00</td>\n",
       "      <td>1.00</td>\n",
       "      <td>anomaly</td>\n",
       "    </tr>\n",
       "    <tr>\n",
       "      <th>1</th>\n",
       "      <td>2</td>\n",
       "      <td>tcp</td>\n",
       "      <td>ftp_data</td>\n",
       "      <td>SF</td>\n",
       "      <td>12983.0</td>\n",
       "      <td>0.0</td>\n",
       "      <td>0</td>\n",
       "      <td>0</td>\n",
       "      <td>0</td>\n",
       "      <td>0</td>\n",
       "      <td>...</td>\n",
       "      <td>86</td>\n",
       "      <td>0.61</td>\n",
       "      <td>0.04</td>\n",
       "      <td>0.61</td>\n",
       "      <td>0.02</td>\n",
       "      <td>0.00</td>\n",
       "      <td>0.0</td>\n",
       "      <td>0.00</td>\n",
       "      <td>0.00</td>\n",
       "      <td>normal</td>\n",
       "    </tr>\n",
       "    <tr>\n",
       "      <th>2</th>\n",
       "      <td>0</td>\n",
       "      <td>icmp</td>\n",
       "      <td>eco_i</td>\n",
       "      <td>SF</td>\n",
       "      <td>20.0</td>\n",
       "      <td>0.0</td>\n",
       "      <td>0</td>\n",
       "      <td>0</td>\n",
       "      <td>0</td>\n",
       "      <td>0</td>\n",
       "      <td>...</td>\n",
       "      <td>57</td>\n",
       "      <td>1.00</td>\n",
       "      <td>0.00</td>\n",
       "      <td>1.00</td>\n",
       "      <td>0.28</td>\n",
       "      <td>0.00</td>\n",
       "      <td>0.0</td>\n",
       "      <td>0.00</td>\n",
       "      <td>0.00</td>\n",
       "      <td>anomaly</td>\n",
       "    </tr>\n",
       "    <tr>\n",
       "      <th>3</th>\n",
       "      <td>0</td>\n",
       "      <td>tcp</td>\n",
       "      <td>http</td>\n",
       "      <td>SF</td>\n",
       "      <td>267.0</td>\n",
       "      <td>14515.0</td>\n",
       "      <td>0</td>\n",
       "      <td>0</td>\n",
       "      <td>0</td>\n",
       "      <td>0</td>\n",
       "      <td>...</td>\n",
       "      <td>255</td>\n",
       "      <td>1.00</td>\n",
       "      <td>0.00</td>\n",
       "      <td>0.01</td>\n",
       "      <td>0.03</td>\n",
       "      <td>0.01</td>\n",
       "      <td>0.0</td>\n",
       "      <td>0.00</td>\n",
       "      <td>0.00</td>\n",
       "      <td>normal</td>\n",
       "    </tr>\n",
       "    <tr>\n",
       "      <th>4</th>\n",
       "      <td>0</td>\n",
       "      <td>tcp</td>\n",
       "      <td>smtp</td>\n",
       "      <td>SF</td>\n",
       "      <td>1022.0</td>\n",
       "      <td>387.0</td>\n",
       "      <td>0</td>\n",
       "      <td>0</td>\n",
       "      <td>0</td>\n",
       "      <td>0</td>\n",
       "      <td>...</td>\n",
       "      <td>28</td>\n",
       "      <td>0.11</td>\n",
       "      <td>0.72</td>\n",
       "      <td>0.00</td>\n",
       "      <td>0.00</td>\n",
       "      <td>0.00</td>\n",
       "      <td>0.0</td>\n",
       "      <td>0.72</td>\n",
       "      <td>0.04</td>\n",
       "      <td>normal</td>\n",
       "    </tr>\n",
       "  </tbody>\n",
       "</table>\n",
       "<p>5 rows × 40 columns</p>\n",
       "</div>"
      ],
      "text/plain": [
       "   duration protocol_type   service flag  src_bytes  dst_bytes  land  \\\n",
       "0         0           tcp   private  REJ        0.0        0.0     0   \n",
       "1         2           tcp  ftp_data   SF    12983.0        0.0     0   \n",
       "2         0          icmp     eco_i   SF       20.0        0.0     0   \n",
       "3         0           tcp      http   SF      267.0    14515.0     0   \n",
       "4         0           tcp      smtp   SF     1022.0      387.0     0   \n",
       "\n",
       "   wrong_fragment  urgent  hot  ...  dst_host_srv_count  \\\n",
       "0               0       0    0  ...                   1   \n",
       "1               0       0    0  ...                  86   \n",
       "2               0       0    0  ...                  57   \n",
       "3               0       0    0  ...                 255   \n",
       "4               0       0    0  ...                  28   \n",
       "\n",
       "   dst_host_same_srv_rate  dst_host_diff_srv_rate  \\\n",
       "0                    0.00                    0.06   \n",
       "1                    0.61                    0.04   \n",
       "2                    1.00                    0.00   \n",
       "3                    1.00                    0.00   \n",
       "4                    0.11                    0.72   \n",
       "\n",
       "   dst_host_same_src_port_rate  dst_host_srv_diff_host_rate  \\\n",
       "0                         0.00                         0.00   \n",
       "1                         0.61                         0.02   \n",
       "2                         1.00                         0.28   \n",
       "3                         0.01                         0.03   \n",
       "4                         0.00                         0.00   \n",
       "\n",
       "   dst_host_serror_rate  dst_host_srv_serror_rate  dst_host_rerror_rate  \\\n",
       "0                  0.00                       0.0                  1.00   \n",
       "1                  0.00                       0.0                  0.00   \n",
       "2                  0.00                       0.0                  0.00   \n",
       "3                  0.01                       0.0                  0.00   \n",
       "4                  0.00                       0.0                  0.72   \n",
       "\n",
       "   dst_host_srv_rerror_rate    class  \n",
       "0                      1.00  anomaly  \n",
       "1                      0.00   normal  \n",
       "2                      0.00  anomaly  \n",
       "3                      0.00   normal  \n",
       "4                      0.04   normal  \n",
       "\n",
       "[5 rows x 40 columns]"
      ]
     },
     "execution_count": 3,
     "metadata": {},
     "output_type": "execute_result"
    }
   ],
   "source": [
    "data.head()"
   ]
  },
  {
   "cell_type": "markdown",
   "id": "561025e9",
   "metadata": {},
   "source": [
    "### Analyzing the data"
   ]
  },
  {
   "cell_type": "markdown",
   "id": "6e11664e",
   "metadata": {},
   "source": [
    "$info()$ helps to understand the data type and information about data, including the number of records in each column, data having null or not null, Data type, the memory usage of the dataset.\n",
    "\n",
    "We can find that the network intrusion dataset has 40 columns, among them, \"protocol_type\", \"service\", \"flag\", and \"class\" columns are object type or categorical features (Not numerical)"
   ]
  },
  {
   "cell_type": "code",
   "execution_count": 4,
   "id": "21be6d2c",
   "metadata": {
    "scrolled": true
   },
   "outputs": [
    {
     "name": "stdout",
     "output_type": "stream",
     "text": [
      "<class 'pandas.core.frame.DataFrame'>\n",
      "RangeIndex: 16128 entries, 0 to 16127\n",
      "Data columns (total 40 columns):\n",
      " #   Column                       Non-Null Count  Dtype  \n",
      "---  ------                       --------------  -----  \n",
      " 0   duration                     16128 non-null  int64  \n",
      " 1   protocol_type                16128 non-null  object \n",
      " 2   service                      16128 non-null  object \n",
      " 3   flag                         16128 non-null  object \n",
      " 4   src_bytes                    16122 non-null  float64\n",
      " 5   dst_bytes                    16122 non-null  float64\n",
      " 6   land                         16128 non-null  int64  \n",
      " 7   wrong_fragment               16128 non-null  int64  \n",
      " 8   urgent                       16128 non-null  int64  \n",
      " 9   hot                          16128 non-null  int64  \n",
      " 10  num_failed_logins            16128 non-null  int64  \n",
      " 11  logged_in                    16128 non-null  int64  \n",
      " 12  num_compromised              16128 non-null  int64  \n",
      " 13  root_shell                   16128 non-null  int64  \n",
      " 14  num_root                     16128 non-null  int64  \n",
      " 15  num_shells                   16128 non-null  int64  \n",
      " 16  num_access_files             16128 non-null  int64  \n",
      " 17  num_outbound_cmds            16128 non-null  int64  \n",
      " 18  is_host_login                16128 non-null  int64  \n",
      " 19  is_guest_login               16128 non-null  int64  \n",
      " 20  count                        16121 non-null  float64\n",
      " 21  srv_count                    16121 non-null  float64\n",
      " 22  serror_rate                  16128 non-null  float64\n",
      " 23  srv_serror_rate              16128 non-null  float64\n",
      " 24  rerror_rate                  16128 non-null  float64\n",
      " 25  srv_rerror_rate              16128 non-null  float64\n",
      " 26  same_srv_rate                16128 non-null  float64\n",
      " 27  diff_srv_rate                16128 non-null  float64\n",
      " 28  srv_diff_host_rate           16128 non-null  float64\n",
      " 29  dst_host_count               16128 non-null  int64  \n",
      " 30  dst_host_srv_count           16128 non-null  int64  \n",
      " 31  dst_host_same_srv_rate       16128 non-null  float64\n",
      " 32  dst_host_diff_srv_rate       16128 non-null  float64\n",
      " 33  dst_host_same_src_port_rate  16128 non-null  float64\n",
      " 34  dst_host_srv_diff_host_rate  16128 non-null  float64\n",
      " 35  dst_host_serror_rate         16128 non-null  float64\n",
      " 36  dst_host_srv_serror_rate     16128 non-null  float64\n",
      " 37  dst_host_rerror_rate         16128 non-null  float64\n",
      " 38  dst_host_srv_rerror_rate     16128 non-null  float64\n",
      " 39  class                        16128 non-null  object \n",
      "dtypes: float64(19), int64(17), object(4)\n",
      "memory usage: 4.9+ MB\n"
     ]
    }
   ],
   "source": [
    "data.info()"
   ]
  },
  {
   "cell_type": "markdown",
   "id": "8a7cf76c",
   "metadata": {},
   "source": [
    "Some machine learning algorithms can handle categorical features directly without requiring them to be converted to numerical values. For example, Decision Trees and Random Forests can handle categorical variables naturally by splitting on different categories.\n",
    "\n",
    "However, many other algorithms, such as logistic regression, support vector machines, and neural networks, require numerical input. In such cases, converting categorical features to numerical values becomes necessary. This process is called \"encoding\" categorical variables.\n",
    "\n",
    "Since we will work with all classification models, we will use LabelEncoder() to convert the categorical features to numerical values."
   ]
  },
  {
   "cell_type": "code",
   "execution_count": 5,
   "id": "e07a963b",
   "metadata": {
    "scrolled": true
   },
   "outputs": [],
   "source": [
    "label_encoder = LabelEncoder()\n",
    "data['protocol_type'] = label_encoder.fit_transform(data['protocol_type'])\n",
    "data['service'] = label_encoder.fit_transform(data['service'])\n",
    "data['flag'] = label_encoder.fit_transform(data['flag'])\n",
    "data['class'] = label_encoder.fit_transform(data['class'])"
   ]
  },
  {
   "cell_type": "code",
   "execution_count": 6,
   "id": "324c9963",
   "metadata": {
    "scrolled": true
   },
   "outputs": [
    {
     "data": {
      "text/html": [
       "<div>\n",
       "<style scoped>\n",
       "    .dataframe tbody tr th:only-of-type {\n",
       "        vertical-align: middle;\n",
       "    }\n",
       "\n",
       "    .dataframe tbody tr th {\n",
       "        vertical-align: top;\n",
       "    }\n",
       "\n",
       "    .dataframe thead th {\n",
       "        text-align: right;\n",
       "    }\n",
       "</style>\n",
       "<table border=\"1\" class=\"dataframe\">\n",
       "  <thead>\n",
       "    <tr style=\"text-align: right;\">\n",
       "      <th></th>\n",
       "      <th>duration</th>\n",
       "      <th>protocol_type</th>\n",
       "      <th>service</th>\n",
       "      <th>flag</th>\n",
       "      <th>src_bytes</th>\n",
       "      <th>dst_bytes</th>\n",
       "      <th>land</th>\n",
       "      <th>wrong_fragment</th>\n",
       "      <th>urgent</th>\n",
       "      <th>hot</th>\n",
       "      <th>...</th>\n",
       "      <th>dst_host_srv_count</th>\n",
       "      <th>dst_host_same_srv_rate</th>\n",
       "      <th>dst_host_diff_srv_rate</th>\n",
       "      <th>dst_host_same_src_port_rate</th>\n",
       "      <th>dst_host_srv_diff_host_rate</th>\n",
       "      <th>dst_host_serror_rate</th>\n",
       "      <th>dst_host_srv_serror_rate</th>\n",
       "      <th>dst_host_rerror_rate</th>\n",
       "      <th>dst_host_srv_rerror_rate</th>\n",
       "      <th>class</th>\n",
       "    </tr>\n",
       "  </thead>\n",
       "  <tbody>\n",
       "    <tr>\n",
       "      <th>0</th>\n",
       "      <td>0</td>\n",
       "      <td>1</td>\n",
       "      <td>45</td>\n",
       "      <td>1</td>\n",
       "      <td>0.0</td>\n",
       "      <td>0.0</td>\n",
       "      <td>0</td>\n",
       "      <td>0</td>\n",
       "      <td>0</td>\n",
       "      <td>0</td>\n",
       "      <td>...</td>\n",
       "      <td>1</td>\n",
       "      <td>0.00</td>\n",
       "      <td>0.06</td>\n",
       "      <td>0.00</td>\n",
       "      <td>0.00</td>\n",
       "      <td>0.00</td>\n",
       "      <td>0.0</td>\n",
       "      <td>1.00</td>\n",
       "      <td>1.00</td>\n",
       "      <td>0</td>\n",
       "    </tr>\n",
       "    <tr>\n",
       "      <th>1</th>\n",
       "      <td>2</td>\n",
       "      <td>1</td>\n",
       "      <td>19</td>\n",
       "      <td>9</td>\n",
       "      <td>12983.0</td>\n",
       "      <td>0.0</td>\n",
       "      <td>0</td>\n",
       "      <td>0</td>\n",
       "      <td>0</td>\n",
       "      <td>0</td>\n",
       "      <td>...</td>\n",
       "      <td>86</td>\n",
       "      <td>0.61</td>\n",
       "      <td>0.04</td>\n",
       "      <td>0.61</td>\n",
       "      <td>0.02</td>\n",
       "      <td>0.00</td>\n",
       "      <td>0.0</td>\n",
       "      <td>0.00</td>\n",
       "      <td>0.00</td>\n",
       "      <td>1</td>\n",
       "    </tr>\n",
       "    <tr>\n",
       "      <th>2</th>\n",
       "      <td>0</td>\n",
       "      <td>0</td>\n",
       "      <td>13</td>\n",
       "      <td>9</td>\n",
       "      <td>20.0</td>\n",
       "      <td>0.0</td>\n",
       "      <td>0</td>\n",
       "      <td>0</td>\n",
       "      <td>0</td>\n",
       "      <td>0</td>\n",
       "      <td>...</td>\n",
       "      <td>57</td>\n",
       "      <td>1.00</td>\n",
       "      <td>0.00</td>\n",
       "      <td>1.00</td>\n",
       "      <td>0.28</td>\n",
       "      <td>0.00</td>\n",
       "      <td>0.0</td>\n",
       "      <td>0.00</td>\n",
       "      <td>0.00</td>\n",
       "      <td>0</td>\n",
       "    </tr>\n",
       "    <tr>\n",
       "      <th>3</th>\n",
       "      <td>0</td>\n",
       "      <td>1</td>\n",
       "      <td>22</td>\n",
       "      <td>9</td>\n",
       "      <td>267.0</td>\n",
       "      <td>14515.0</td>\n",
       "      <td>0</td>\n",
       "      <td>0</td>\n",
       "      <td>0</td>\n",
       "      <td>0</td>\n",
       "      <td>...</td>\n",
       "      <td>255</td>\n",
       "      <td>1.00</td>\n",
       "      <td>0.00</td>\n",
       "      <td>0.01</td>\n",
       "      <td>0.03</td>\n",
       "      <td>0.01</td>\n",
       "      <td>0.0</td>\n",
       "      <td>0.00</td>\n",
       "      <td>0.00</td>\n",
       "      <td>1</td>\n",
       "    </tr>\n",
       "    <tr>\n",
       "      <th>4</th>\n",
       "      <td>0</td>\n",
       "      <td>1</td>\n",
       "      <td>49</td>\n",
       "      <td>9</td>\n",
       "      <td>1022.0</td>\n",
       "      <td>387.0</td>\n",
       "      <td>0</td>\n",
       "      <td>0</td>\n",
       "      <td>0</td>\n",
       "      <td>0</td>\n",
       "      <td>...</td>\n",
       "      <td>28</td>\n",
       "      <td>0.11</td>\n",
       "      <td>0.72</td>\n",
       "      <td>0.00</td>\n",
       "      <td>0.00</td>\n",
       "      <td>0.00</td>\n",
       "      <td>0.0</td>\n",
       "      <td>0.72</td>\n",
       "      <td>0.04</td>\n",
       "      <td>1</td>\n",
       "    </tr>\n",
       "    <tr>\n",
       "      <th>...</th>\n",
       "      <td>...</td>\n",
       "      <td>...</td>\n",
       "      <td>...</td>\n",
       "      <td>...</td>\n",
       "      <td>...</td>\n",
       "      <td>...</td>\n",
       "      <td>...</td>\n",
       "      <td>...</td>\n",
       "      <td>...</td>\n",
       "      <td>...</td>\n",
       "      <td>...</td>\n",
       "      <td>...</td>\n",
       "      <td>...</td>\n",
       "      <td>...</td>\n",
       "      <td>...</td>\n",
       "      <td>...</td>\n",
       "      <td>...</td>\n",
       "      <td>...</td>\n",
       "      <td>...</td>\n",
       "      <td>...</td>\n",
       "      <td>...</td>\n",
       "    </tr>\n",
       "    <tr>\n",
       "      <th>16123</th>\n",
       "      <td>0</td>\n",
       "      <td>1</td>\n",
       "      <td>25</td>\n",
       "      <td>1</td>\n",
       "      <td>0.0</td>\n",
       "      <td>0.0</td>\n",
       "      <td>0</td>\n",
       "      <td>0</td>\n",
       "      <td>0</td>\n",
       "      <td>0</td>\n",
       "      <td>...</td>\n",
       "      <td>18</td>\n",
       "      <td>0.07</td>\n",
       "      <td>0.05</td>\n",
       "      <td>0.00</td>\n",
       "      <td>0.00</td>\n",
       "      <td>0.00</td>\n",
       "      <td>0.0</td>\n",
       "      <td>1.00</td>\n",
       "      <td>1.00</td>\n",
       "      <td>0</td>\n",
       "    </tr>\n",
       "    <tr>\n",
       "      <th>16124</th>\n",
       "      <td>0</td>\n",
       "      <td>0</td>\n",
       "      <td>14</td>\n",
       "      <td>9</td>\n",
       "      <td>1032.0</td>\n",
       "      <td>0.0</td>\n",
       "      <td>0</td>\n",
       "      <td>0</td>\n",
       "      <td>0</td>\n",
       "      <td>0</td>\n",
       "      <td>...</td>\n",
       "      <td>255</td>\n",
       "      <td>1.00</td>\n",
       "      <td>0.00</td>\n",
       "      <td>1.00</td>\n",
       "      <td>0.00</td>\n",
       "      <td>0.00</td>\n",
       "      <td>0.0</td>\n",
       "      <td>0.00</td>\n",
       "      <td>0.00</td>\n",
       "      <td>0</td>\n",
       "    </tr>\n",
       "    <tr>\n",
       "      <th>16125</th>\n",
       "      <td>0</td>\n",
       "      <td>1</td>\n",
       "      <td>49</td>\n",
       "      <td>9</td>\n",
       "      <td>794.0</td>\n",
       "      <td>333.0</td>\n",
       "      <td>0</td>\n",
       "      <td>0</td>\n",
       "      <td>0</td>\n",
       "      <td>0</td>\n",
       "      <td>...</td>\n",
       "      <td>141</td>\n",
       "      <td>0.72</td>\n",
       "      <td>0.06</td>\n",
       "      <td>0.01</td>\n",
       "      <td>0.01</td>\n",
       "      <td>0.01</td>\n",
       "      <td>0.0</td>\n",
       "      <td>0.00</td>\n",
       "      <td>0.00</td>\n",
       "      <td>1</td>\n",
       "    </tr>\n",
       "    <tr>\n",
       "      <th>16126</th>\n",
       "      <td>0</td>\n",
       "      <td>1</td>\n",
       "      <td>22</td>\n",
       "      <td>9</td>\n",
       "      <td>317.0</td>\n",
       "      <td>938.0</td>\n",
       "      <td>0</td>\n",
       "      <td>0</td>\n",
       "      <td>0</td>\n",
       "      <td>0</td>\n",
       "      <td>...</td>\n",
       "      <td>255</td>\n",
       "      <td>1.00</td>\n",
       "      <td>0.00</td>\n",
       "      <td>0.01</td>\n",
       "      <td>0.01</td>\n",
       "      <td>0.01</td>\n",
       "      <td>0.0</td>\n",
       "      <td>0.00</td>\n",
       "      <td>0.00</td>\n",
       "      <td>1</td>\n",
       "    </tr>\n",
       "    <tr>\n",
       "      <th>16127</th>\n",
       "      <td>0</td>\n",
       "      <td>2</td>\n",
       "      <td>11</td>\n",
       "      <td>9</td>\n",
       "      <td>42.0</td>\n",
       "      <td>42.0</td>\n",
       "      <td>0</td>\n",
       "      <td>0</td>\n",
       "      <td>0</td>\n",
       "      <td>0</td>\n",
       "      <td>...</td>\n",
       "      <td>252</td>\n",
       "      <td>0.99</td>\n",
       "      <td>0.01</td>\n",
       "      <td>0.00</td>\n",
       "      <td>0.00</td>\n",
       "      <td>0.00</td>\n",
       "      <td>0.0</td>\n",
       "      <td>0.00</td>\n",
       "      <td>0.00</td>\n",
       "      <td>1</td>\n",
       "    </tr>\n",
       "  </tbody>\n",
       "</table>\n",
       "<p>16128 rows × 40 columns</p>\n",
       "</div>"
      ],
      "text/plain": [
       "       duration  protocol_type  service  flag  src_bytes  dst_bytes  land  \\\n",
       "0             0              1       45     1        0.0        0.0     0   \n",
       "1             2              1       19     9    12983.0        0.0     0   \n",
       "2             0              0       13     9       20.0        0.0     0   \n",
       "3             0              1       22     9      267.0    14515.0     0   \n",
       "4             0              1       49     9     1022.0      387.0     0   \n",
       "...         ...            ...      ...   ...        ...        ...   ...   \n",
       "16123         0              1       25     1        0.0        0.0     0   \n",
       "16124         0              0       14     9     1032.0        0.0     0   \n",
       "16125         0              1       49     9      794.0      333.0     0   \n",
       "16126         0              1       22     9      317.0      938.0     0   \n",
       "16127         0              2       11     9       42.0       42.0     0   \n",
       "\n",
       "       wrong_fragment  urgent  hot  ...  dst_host_srv_count  \\\n",
       "0                   0       0    0  ...                   1   \n",
       "1                   0       0    0  ...                  86   \n",
       "2                   0       0    0  ...                  57   \n",
       "3                   0       0    0  ...                 255   \n",
       "4                   0       0    0  ...                  28   \n",
       "...               ...     ...  ...  ...                 ...   \n",
       "16123               0       0    0  ...                  18   \n",
       "16124               0       0    0  ...                 255   \n",
       "16125               0       0    0  ...                 141   \n",
       "16126               0       0    0  ...                 255   \n",
       "16127               0       0    0  ...                 252   \n",
       "\n",
       "       dst_host_same_srv_rate  dst_host_diff_srv_rate  \\\n",
       "0                        0.00                    0.06   \n",
       "1                        0.61                    0.04   \n",
       "2                        1.00                    0.00   \n",
       "3                        1.00                    0.00   \n",
       "4                        0.11                    0.72   \n",
       "...                       ...                     ...   \n",
       "16123                    0.07                    0.05   \n",
       "16124                    1.00                    0.00   \n",
       "16125                    0.72                    0.06   \n",
       "16126                    1.00                    0.00   \n",
       "16127                    0.99                    0.01   \n",
       "\n",
       "       dst_host_same_src_port_rate  dst_host_srv_diff_host_rate  \\\n",
       "0                             0.00                         0.00   \n",
       "1                             0.61                         0.02   \n",
       "2                             1.00                         0.28   \n",
       "3                             0.01                         0.03   \n",
       "4                             0.00                         0.00   \n",
       "...                            ...                          ...   \n",
       "16123                         0.00                         0.00   \n",
       "16124                         1.00                         0.00   \n",
       "16125                         0.01                         0.01   \n",
       "16126                         0.01                         0.01   \n",
       "16127                         0.00                         0.00   \n",
       "\n",
       "       dst_host_serror_rate  dst_host_srv_serror_rate  dst_host_rerror_rate  \\\n",
       "0                      0.00                       0.0                  1.00   \n",
       "1                      0.00                       0.0                  0.00   \n",
       "2                      0.00                       0.0                  0.00   \n",
       "3                      0.01                       0.0                  0.00   \n",
       "4                      0.00                       0.0                  0.72   \n",
       "...                     ...                       ...                   ...   \n",
       "16123                  0.00                       0.0                  1.00   \n",
       "16124                  0.00                       0.0                  0.00   \n",
       "16125                  0.01                       0.0                  0.00   \n",
       "16126                  0.01                       0.0                  0.00   \n",
       "16127                  0.00                       0.0                  0.00   \n",
       "\n",
       "       dst_host_srv_rerror_rate  class  \n",
       "0                          1.00      0  \n",
       "1                          0.00      1  \n",
       "2                          0.00      0  \n",
       "3                          0.00      1  \n",
       "4                          0.04      1  \n",
       "...                         ...    ...  \n",
       "16123                      1.00      0  \n",
       "16124                      0.00      0  \n",
       "16125                      0.00      1  \n",
       "16126                      0.00      1  \n",
       "16127                      0.00      1  \n",
       "\n",
       "[16128 rows x 40 columns]"
      ]
     },
     "execution_count": 6,
     "metadata": {},
     "output_type": "execute_result"
    }
   ],
   "source": [
    "data"
   ]
  },
  {
   "cell_type": "markdown",
   "id": "d90f2d33",
   "metadata": {},
   "source": [
    "### Checking class distribution"
   ]
  },
  {
   "cell_type": "markdown",
   "id": "0d890c8e",
   "metadata": {},
   "source": [
    "We need to check for class imbalance in the dataset, which means, we need to check if the ratio of normal data (now converted to 0) and anomalous data (now converted to 1) is equal or not. "
   ]
  },
  {
   "cell_type": "code",
   "execution_count": 7,
   "id": "8fa71067",
   "metadata": {
    "scrolled": true
   },
   "outputs": [
    {
     "name": "stdout",
     "output_type": "stream",
     "text": [
      "Number of data labeled as 'anomaly': 9711\n",
      "Number of data labeled as 'normal': 6417\n"
     ]
    }
   ],
   "source": [
    "label_counts = data['class'].value_counts()\n",
    "\n",
    "# Print the counts\n",
    "print(\"Number of data labeled as 'anomaly':\", label_counts[1])\n",
    "print(\"Number of data labeled as 'normal':\", label_counts[0])"
   ]
  },
  {
   "cell_type": "markdown",
   "id": "5a50f670",
   "metadata": {},
   "source": [
    "As we can see, the dataset has more normal data than anomalous data, resulting in a class imbalance"
   ]
  },
  {
   "cell_type": "markdown",
   "id": "ae2ff495",
   "metadata": {},
   "source": [
    "### Checking for missing values"
   ]
  },
  {
   "cell_type": "markdown",
   "id": "3e6b5c58",
   "metadata": {},
   "source": [
    "$isnull()$ is used to identify null/ missing values in the data\n",
    "$isnull().sum()$ will show us the total number of missing records in each column. For example, \"src_bytes\" and \"dst_bytes\" each have 6 values missing, and \"count\" and \"srv_count\" each have 7 missing values"
   ]
  },
  {
   "cell_type": "code",
   "execution_count": 8,
   "id": "6645c956",
   "metadata": {
    "scrolled": true
   },
   "outputs": [
    {
     "data": {
      "text/plain": [
       "duration                       0\n",
       "protocol_type                  0\n",
       "service                        0\n",
       "flag                           0\n",
       "src_bytes                      6\n",
       "dst_bytes                      6\n",
       "land                           0\n",
       "wrong_fragment                 0\n",
       "urgent                         0\n",
       "hot                            0\n",
       "num_failed_logins              0\n",
       "logged_in                      0\n",
       "num_compromised                0\n",
       "root_shell                     0\n",
       "num_root                       0\n",
       "num_shells                     0\n",
       "num_access_files               0\n",
       "num_outbound_cmds              0\n",
       "is_host_login                  0\n",
       "is_guest_login                 0\n",
       "count                          7\n",
       "srv_count                      7\n",
       "serror_rate                    0\n",
       "srv_serror_rate                0\n",
       "rerror_rate                    0\n",
       "srv_rerror_rate                0\n",
       "same_srv_rate                  0\n",
       "diff_srv_rate                  0\n",
       "srv_diff_host_rate             0\n",
       "dst_host_count                 0\n",
       "dst_host_srv_count             0\n",
       "dst_host_same_srv_rate         0\n",
       "dst_host_diff_srv_rate         0\n",
       "dst_host_same_src_port_rate    0\n",
       "dst_host_srv_diff_host_rate    0\n",
       "dst_host_serror_rate           0\n",
       "dst_host_srv_serror_rate       0\n",
       "dst_host_rerror_rate           0\n",
       "dst_host_srv_rerror_rate       0\n",
       "class                          0\n",
       "dtype: int64"
      ]
     },
     "execution_count": 8,
     "metadata": {},
     "output_type": "execute_result"
    }
   ],
   "source": [
    "data.isnull().sum() "
   ]
  },
  {
   "cell_type": "markdown",
   "id": "bce433fb",
   "metadata": {},
   "source": [
    "We are filling the missing values with the mean of all values in that column"
   ]
  },
  {
   "cell_type": "code",
   "execution_count": 9,
   "id": "4074215a",
   "metadata": {
    "scrolled": true
   },
   "outputs": [],
   "source": [
    "data.fillna(data.mean(), inplace=True)"
   ]
  },
  {
   "cell_type": "markdown",
   "id": "6517a7d7",
   "metadata": {},
   "source": [
    "Now our dataset has only numerical values. This is easier to analyze using the machine learning classifiers"
   ]
  },
  {
   "cell_type": "code",
   "execution_count": 10,
   "id": "4ab8e139",
   "metadata": {
    "scrolled": false
   },
   "outputs": [
    {
     "data": {
      "text/html": [
       "<div>\n",
       "<style scoped>\n",
       "    .dataframe tbody tr th:only-of-type {\n",
       "        vertical-align: middle;\n",
       "    }\n",
       "\n",
       "    .dataframe tbody tr th {\n",
       "        vertical-align: top;\n",
       "    }\n",
       "\n",
       "    .dataframe thead th {\n",
       "        text-align: right;\n",
       "    }\n",
       "</style>\n",
       "<table border=\"1\" class=\"dataframe\">\n",
       "  <thead>\n",
       "    <tr style=\"text-align: right;\">\n",
       "      <th></th>\n",
       "      <th>duration</th>\n",
       "      <th>protocol_type</th>\n",
       "      <th>service</th>\n",
       "      <th>flag</th>\n",
       "      <th>src_bytes</th>\n",
       "      <th>dst_bytes</th>\n",
       "      <th>land</th>\n",
       "      <th>wrong_fragment</th>\n",
       "      <th>urgent</th>\n",
       "      <th>hot</th>\n",
       "      <th>...</th>\n",
       "      <th>dst_host_srv_count</th>\n",
       "      <th>dst_host_same_srv_rate</th>\n",
       "      <th>dst_host_diff_srv_rate</th>\n",
       "      <th>dst_host_same_src_port_rate</th>\n",
       "      <th>dst_host_srv_diff_host_rate</th>\n",
       "      <th>dst_host_serror_rate</th>\n",
       "      <th>dst_host_srv_serror_rate</th>\n",
       "      <th>dst_host_rerror_rate</th>\n",
       "      <th>dst_host_srv_rerror_rate</th>\n",
       "      <th>class</th>\n",
       "    </tr>\n",
       "  </thead>\n",
       "  <tbody>\n",
       "    <tr>\n",
       "      <th>0</th>\n",
       "      <td>0</td>\n",
       "      <td>1</td>\n",
       "      <td>45</td>\n",
       "      <td>1</td>\n",
       "      <td>0.0</td>\n",
       "      <td>0.0</td>\n",
       "      <td>0</td>\n",
       "      <td>0</td>\n",
       "      <td>0</td>\n",
       "      <td>0</td>\n",
       "      <td>...</td>\n",
       "      <td>1</td>\n",
       "      <td>0.00</td>\n",
       "      <td>0.06</td>\n",
       "      <td>0.00</td>\n",
       "      <td>0.00</td>\n",
       "      <td>0.00</td>\n",
       "      <td>0.0</td>\n",
       "      <td>1.00</td>\n",
       "      <td>1.00</td>\n",
       "      <td>0</td>\n",
       "    </tr>\n",
       "    <tr>\n",
       "      <th>1</th>\n",
       "      <td>2</td>\n",
       "      <td>1</td>\n",
       "      <td>19</td>\n",
       "      <td>9</td>\n",
       "      <td>12983.0</td>\n",
       "      <td>0.0</td>\n",
       "      <td>0</td>\n",
       "      <td>0</td>\n",
       "      <td>0</td>\n",
       "      <td>0</td>\n",
       "      <td>...</td>\n",
       "      <td>86</td>\n",
       "      <td>0.61</td>\n",
       "      <td>0.04</td>\n",
       "      <td>0.61</td>\n",
       "      <td>0.02</td>\n",
       "      <td>0.00</td>\n",
       "      <td>0.0</td>\n",
       "      <td>0.00</td>\n",
       "      <td>0.00</td>\n",
       "      <td>1</td>\n",
       "    </tr>\n",
       "    <tr>\n",
       "      <th>2</th>\n",
       "      <td>0</td>\n",
       "      <td>0</td>\n",
       "      <td>13</td>\n",
       "      <td>9</td>\n",
       "      <td>20.0</td>\n",
       "      <td>0.0</td>\n",
       "      <td>0</td>\n",
       "      <td>0</td>\n",
       "      <td>0</td>\n",
       "      <td>0</td>\n",
       "      <td>...</td>\n",
       "      <td>57</td>\n",
       "      <td>1.00</td>\n",
       "      <td>0.00</td>\n",
       "      <td>1.00</td>\n",
       "      <td>0.28</td>\n",
       "      <td>0.00</td>\n",
       "      <td>0.0</td>\n",
       "      <td>0.00</td>\n",
       "      <td>0.00</td>\n",
       "      <td>0</td>\n",
       "    </tr>\n",
       "    <tr>\n",
       "      <th>3</th>\n",
       "      <td>0</td>\n",
       "      <td>1</td>\n",
       "      <td>22</td>\n",
       "      <td>9</td>\n",
       "      <td>267.0</td>\n",
       "      <td>14515.0</td>\n",
       "      <td>0</td>\n",
       "      <td>0</td>\n",
       "      <td>0</td>\n",
       "      <td>0</td>\n",
       "      <td>...</td>\n",
       "      <td>255</td>\n",
       "      <td>1.00</td>\n",
       "      <td>0.00</td>\n",
       "      <td>0.01</td>\n",
       "      <td>0.03</td>\n",
       "      <td>0.01</td>\n",
       "      <td>0.0</td>\n",
       "      <td>0.00</td>\n",
       "      <td>0.00</td>\n",
       "      <td>1</td>\n",
       "    </tr>\n",
       "    <tr>\n",
       "      <th>4</th>\n",
       "      <td>0</td>\n",
       "      <td>1</td>\n",
       "      <td>49</td>\n",
       "      <td>9</td>\n",
       "      <td>1022.0</td>\n",
       "      <td>387.0</td>\n",
       "      <td>0</td>\n",
       "      <td>0</td>\n",
       "      <td>0</td>\n",
       "      <td>0</td>\n",
       "      <td>...</td>\n",
       "      <td>28</td>\n",
       "      <td>0.11</td>\n",
       "      <td>0.72</td>\n",
       "      <td>0.00</td>\n",
       "      <td>0.00</td>\n",
       "      <td>0.00</td>\n",
       "      <td>0.0</td>\n",
       "      <td>0.72</td>\n",
       "      <td>0.04</td>\n",
       "      <td>1</td>\n",
       "    </tr>\n",
       "  </tbody>\n",
       "</table>\n",
       "<p>5 rows × 40 columns</p>\n",
       "</div>"
      ],
      "text/plain": [
       "   duration  protocol_type  service  flag  src_bytes  dst_bytes  land  \\\n",
       "0         0              1       45     1        0.0        0.0     0   \n",
       "1         2              1       19     9    12983.0        0.0     0   \n",
       "2         0              0       13     9       20.0        0.0     0   \n",
       "3         0              1       22     9      267.0    14515.0     0   \n",
       "4         0              1       49     9     1022.0      387.0     0   \n",
       "\n",
       "   wrong_fragment  urgent  hot  ...  dst_host_srv_count  \\\n",
       "0               0       0    0  ...                   1   \n",
       "1               0       0    0  ...                  86   \n",
       "2               0       0    0  ...                  57   \n",
       "3               0       0    0  ...                 255   \n",
       "4               0       0    0  ...                  28   \n",
       "\n",
       "   dst_host_same_srv_rate  dst_host_diff_srv_rate  \\\n",
       "0                    0.00                    0.06   \n",
       "1                    0.61                    0.04   \n",
       "2                    1.00                    0.00   \n",
       "3                    1.00                    0.00   \n",
       "4                    0.11                    0.72   \n",
       "\n",
       "   dst_host_same_src_port_rate  dst_host_srv_diff_host_rate  \\\n",
       "0                         0.00                         0.00   \n",
       "1                         0.61                         0.02   \n",
       "2                         1.00                         0.28   \n",
       "3                         0.01                         0.03   \n",
       "4                         0.00                         0.00   \n",
       "\n",
       "   dst_host_serror_rate  dst_host_srv_serror_rate  dst_host_rerror_rate  \\\n",
       "0                  0.00                       0.0                  1.00   \n",
       "1                  0.00                       0.0                  0.00   \n",
       "2                  0.00                       0.0                  0.00   \n",
       "3                  0.01                       0.0                  0.00   \n",
       "4                  0.00                       0.0                  0.72   \n",
       "\n",
       "   dst_host_srv_rerror_rate  class  \n",
       "0                      1.00      0  \n",
       "1                      0.00      1  \n",
       "2                      0.00      0  \n",
       "3                      0.00      1  \n",
       "4                      0.04      1  \n",
       "\n",
       "[5 rows x 40 columns]"
      ]
     },
     "execution_count": 10,
     "metadata": {},
     "output_type": "execute_result"
    }
   ],
   "source": [
    "data.head()"
   ]
  },
  {
   "cell_type": "markdown",
   "id": "8b4d7ad7",
   "metadata": {},
   "source": [
    "Now we will split the independent variables or features from the target variables or labels. In other words, we will keep the features in $X$ variable the labels in $y$ variable."
   ]
  },
  {
   "cell_type": "code",
   "execution_count": 11,
   "id": "f1251e3f",
   "metadata": {
    "scrolled": true
   },
   "outputs": [],
   "source": [
    "X = data.drop(columns=['class'])\n",
    "y = data['class'] "
   ]
  },
  {
   "cell_type": "markdown",
   "id": "135f4510",
   "metadata": {},
   "source": [
    "We will utilize stratified k-fold to maintain a uniform class distribution as the original dataset. This ensures that each fold is representative of the overall dataset, providing a more reliable estimate of the model's performance, particularly for classification tasks. Stratified k-fold is particularly useful when there is class imbalance in the dataset."
   ]
  },
  {
   "cell_type": "code",
   "execution_count": 12,
   "id": "3590806d",
   "metadata": {
    "scrolled": true
   },
   "outputs": [],
   "source": [
    "skf = StratifiedKFold(n_splits = 5)"
   ]
  },
  {
   "cell_type": "markdown",
   "id": "e89ab400",
   "metadata": {},
   "source": [
    "The numerical values of the features are still unscaled and widely varied. Therefore, we need to scale the values. Scaling ensures that all features contribute equally to the model fitting process by bringing them to a similar scale. Without scaling, features with larger magnitudes may dominate those with smaller magnitudes, leading to biased model training."
   ]
  },
  {
   "cell_type": "code",
   "execution_count": 13,
   "id": "60268bf4",
   "metadata": {
    "scrolled": true
   },
   "outputs": [
    {
     "data": {
      "text/plain": [
       "array([[0.00000000e+00, 5.00000000e-01, 7.14285714e-01, ...,\n",
       "        0.00000000e+00, 1.00000000e+00, 1.00000000e+00],\n",
       "       [3.67302713e-05, 5.00000000e-01, 3.01587302e-01, ...,\n",
       "        0.00000000e+00, 0.00000000e+00, 0.00000000e+00],\n",
       "       [0.00000000e+00, 0.00000000e+00, 2.06349206e-01, ...,\n",
       "        0.00000000e+00, 0.00000000e+00, 0.00000000e+00],\n",
       "       ...,\n",
       "       [0.00000000e+00, 5.00000000e-01, 7.77777778e-01, ...,\n",
       "        0.00000000e+00, 0.00000000e+00, 0.00000000e+00],\n",
       "       [0.00000000e+00, 5.00000000e-01, 3.49206349e-01, ...,\n",
       "        0.00000000e+00, 0.00000000e+00, 0.00000000e+00],\n",
       "       [0.00000000e+00, 1.00000000e+00, 1.74603175e-01, ...,\n",
       "        0.00000000e+00, 0.00000000e+00, 0.00000000e+00]])"
      ]
     },
     "execution_count": 13,
     "metadata": {},
     "output_type": "execute_result"
    }
   ],
   "source": [
    "scaler = MinMaxScaler(feature_range=(0, 1))\n",
    "X_scaled = scaler.fit_transform(X)\n",
    "X_scaled"
   ]
  },
  {
   "cell_type": "code",
   "execution_count": null,
   "id": "5741a560",
   "metadata": {
    "scrolled": true
   },
   "outputs": [],
   "source": []
  },
  {
   "cell_type": "markdown",
   "id": "14617ce4",
   "metadata": {},
   "source": [
    "# Logistic Regression"
   ]
  },
  {
   "cell_type": "code",
   "execution_count": 14,
   "id": "a1327da9",
   "metadata": {
    "scrolled": true
   },
   "outputs": [],
   "source": [
    "from sklearn.linear_model import LogisticRegression"
   ]
  },
  {
   "cell_type": "code",
   "execution_count": 15,
   "id": "d2122442",
   "metadata": {
    "scrolled": true
   },
   "outputs": [],
   "source": [
    "param_grid = {'C': uniform(0.1, 10),\n",
    "              'penalty': ['l1', 'l2']}"
   ]
  },
  {
   "cell_type": "code",
   "execution_count": 16,
   "id": "05b1cb58",
   "metadata": {
    "scrolled": true
   },
   "outputs": [],
   "source": [
    "true_labels = []\n",
    "pred_labels = []\n",
    "accuracies = []"
   ]
  },
  {
   "cell_type": "code",
   "execution_count": 17,
   "id": "cbffed7c",
   "metadata": {
    "scrolled": true
   },
   "outputs": [],
   "source": [
    "lr = RandomizedSearchCV(LogisticRegression(), param_distributions=param_grid, n_iter=2, cv=2, random_state=50)"
   ]
  },
  {
   "cell_type": "code",
   "execution_count": 18,
   "id": "ee9ff8be",
   "metadata": {
    "scrolled": true
   },
   "outputs": [],
   "source": [
    "with warnings.catch_warnings():\n",
    "    warnings.simplefilter(\"ignore\")\n",
    "    \n",
    "    for train_index, test_index in skf.split(X_scaled, y):\n",
    "        X_train, X_test = X_scaled[train_index], X_scaled[test_index]\n",
    "        y_train, y_test = y[train_index], y[test_index]\n",
    "        \n",
    "        X_train = scaler.fit_transform(X_train)\n",
    "        X_test = scaler.transform(X_test)\n",
    "        \n",
    "        lr.fit(X_train, y_train)\n",
    "        prediction_lr = lr.predict(X_test)\n",
    "        \n",
    "        true_labels.extend(y_test)\n",
    "        pred_labels.extend(prediction_lr)\n",
    "        \n",
    "        accuracy = accuracy_score(y_test, prediction_lr)\n",
    "        accuracies.append(accuracy)"
   ]
  },
  {
   "cell_type": "code",
   "execution_count": 19,
   "id": "676e985a",
   "metadata": {
    "scrolled": true
   },
   "outputs": [
    {
     "name": "stdout",
     "output_type": "stream",
     "text": [
      "best parameters:  LogisticRegression(C=5.046016455380214)\n"
     ]
    }
   ],
   "source": [
    "best_params = lr.best_estimator_\n",
    "print(\"best parameters: \", best_params)"
   ]
  },
  {
   "cell_type": "code",
   "execution_count": 20,
   "id": "23392582",
   "metadata": {
    "scrolled": true
   },
   "outputs": [
    {
     "name": "stdout",
     "output_type": "stream",
     "text": [
      "5-fold Accuracies [0.9218846869187849, 0.9159950402975822, 0.9187848729076256, 0.9144186046511628, 0.92]\n",
      "Mean Accuracy 0.9182166409550312\n"
     ]
    }
   ],
   "source": [
    "print('5-fold Accuracies', accuracies)\n",
    "print('Mean Accuracy', np.mean(accuracies))"
   ]
  },
  {
   "cell_type": "code",
   "execution_count": 21,
   "id": "d86af8b8",
   "metadata": {
    "scrolled": true
   },
   "outputs": [
    {
     "name": "stdout",
     "output_type": "stream",
     "text": [
      "Accuracy of Logistic Regression classifier: 0.9182\n",
      "Total testing data : 16128\n",
      "True Positive:  5506\n",
      "True Negative:  9303\n",
      "False Positive:  911\n",
      "Flase Negative:  408\n",
      "              precision    recall  f1-score   support\n",
      "\n",
      "           0     0.9310    0.8580    0.8930      6417\n",
      "           1     0.9108    0.9580    0.9338      9711\n",
      "\n",
      "    accuracy                         0.9182     16128\n",
      "   macro avg     0.9209    0.9080    0.9134     16128\n",
      "weighted avg     0.9188    0.9182    0.9176     16128\n",
      "\n"
     ]
    }
   ],
   "source": [
    "print('Accuracy of Logistic Regression classifier: {:.4f}'.format(accuracy_score(true_labels, pred_labels)))\n",
    "A = confusion_matrix(true_labels, pred_labels)\n",
    "print('Total testing data :', A[0][0] + A[0][1] + A[1][0] + A[1][1])\n",
    "print('True Positive: ', A[0][0])\n",
    "print('True Negative: ', A[1][1])\n",
    "print('False Positive: ', A[0][1])\n",
    "print('Flase Negative: ', A[1][0])\n",
    "print(classification_report(true_labels, pred_labels, digits=4))"
   ]
  },
  {
   "cell_type": "code",
   "execution_count": null,
   "id": "55bf340d",
   "metadata": {
    "scrolled": true
   },
   "outputs": [],
   "source": []
  },
  {
   "cell_type": "markdown",
   "id": "db6cd9cd",
   "metadata": {},
   "source": [
    "# Random Forest"
   ]
  },
  {
   "cell_type": "code",
   "execution_count": 22,
   "id": "7f1ef203",
   "metadata": {
    "scrolled": true
   },
   "outputs": [],
   "source": [
    "from sklearn.ensemble import RandomForestClassifier"
   ]
  },
  {
   "cell_type": "code",
   "execution_count": 23,
   "id": "2117a20a",
   "metadata": {
    "scrolled": true
   },
   "outputs": [],
   "source": [
    "param_grid = {\n",
    "    'n_estimators': [10, 100, 200],\n",
    "    'max_depth': [None, 1, 20],\n",
    "    'min_samples_split': [2, 10],\n",
    "    'min_samples_leaf': [1, 5]\n",
    "}"
   ]
  },
  {
   "cell_type": "code",
   "execution_count": 24,
   "id": "ab8894fe",
   "metadata": {
    "scrolled": true
   },
   "outputs": [],
   "source": [
    "true_labels = []\n",
    "pred_labels = []\n",
    "accuracies = []"
   ]
  },
  {
   "cell_type": "code",
   "execution_count": 25,
   "id": "2eddb806",
   "metadata": {
    "scrolled": true
   },
   "outputs": [],
   "source": [
    "rf = RandomizedSearchCV(RandomForestClassifier(), param_distributions=param_grid, n_iter=2, cv=2, random_state=50)"
   ]
  },
  {
   "cell_type": "code",
   "execution_count": 26,
   "id": "16d55f9b",
   "metadata": {
    "scrolled": true
   },
   "outputs": [],
   "source": [
    "with warnings.catch_warnings():\n",
    "    warnings.simplefilter(\"ignore\")\n",
    "    \n",
    "    for train_index, test_index in skf.split(X_scaled, y):\n",
    "        X_train, X_test = X_scaled[train_index], X_scaled[test_index]\n",
    "        y_train, y_test = y[train_index], y[test_index]\n",
    "        \n",
    "        X_train = scaler.fit_transform(X_train)\n",
    "        X_test = scaler.transform(X_test)\n",
    "        \n",
    "        rf.fit(X_train, y_train)\n",
    "        prediction_rf = rf.predict(X_test)\n",
    "    \n",
    "        true_labels.extend(y_test)\n",
    "        pred_labels.extend(prediction_rf)\n",
    "    \n",
    "        accuracy = accuracy_score(y_test, prediction_rf)\n",
    "        accuracies.append(accuracy)"
   ]
  },
  {
   "cell_type": "code",
   "execution_count": 27,
   "id": "9ce50616",
   "metadata": {
    "scrolled": true
   },
   "outputs": [
    {
     "name": "stdout",
     "output_type": "stream",
     "text": [
      "best parameters:  RandomForestClassifier(max_depth=20)\n"
     ]
    }
   ],
   "source": [
    "best_params = rf.best_estimator_\n",
    "print(\"best parameters: \", best_params)"
   ]
  },
  {
   "cell_type": "code",
   "execution_count": 28,
   "id": "033fd8b1",
   "metadata": {
    "scrolled": true
   },
   "outputs": [
    {
     "name": "stdout",
     "output_type": "stream",
     "text": [
      "5-fold Accuracies [0.9891506509609423, 0.9876007439553627, 0.986360818350899, 0.9875968992248062, 0.9854263565891472]\n",
      "Mean Accuracy 0.9872270938162314\n"
     ]
    }
   ],
   "source": [
    "print('5-fold Accuracies', accuracies)\n",
    "print('Mean Accuracy', np.mean(accuracies))"
   ]
  },
  {
   "cell_type": "code",
   "execution_count": 29,
   "id": "5af4af50",
   "metadata": {
    "scrolled": true
   },
   "outputs": [
    {
     "name": "stdout",
     "output_type": "stream",
     "text": [
      "Accuracy of Random Forest classifier: 0.9872\n",
      "Total testing data : 16128\n",
      "True Positive:  6297\n",
      "True Negative:  9625\n",
      "False Positive:  120\n",
      "Flase Negative:  86\n",
      "              precision    recall  f1-score   support\n",
      "\n",
      "           0     0.9865    0.9813    0.9839      6417\n",
      "           1     0.9877    0.9911    0.9894      9711\n",
      "\n",
      "    accuracy                         0.9872     16128\n",
      "   macro avg     0.9871    0.9862    0.9867     16128\n",
      "weighted avg     0.9872    0.9872    0.9872     16128\n",
      "\n"
     ]
    }
   ],
   "source": [
    "print('Accuracy of Random Forest classifier: {:.4f}'.format(accuracy_score(true_labels, pred_labels)))\n",
    "B = confusion_matrix(true_labels, pred_labels)\n",
    "print('Total testing data :', B[0][0] + B[0][1] + B[1][0] + B[1][1])\n",
    "print('True Positive: ', B[0][0])\n",
    "print('True Negative: ', B[1][1])\n",
    "print('False Positive: ', B[0][1])\n",
    "print('Flase Negative: ', B[1][0])\n",
    "print(classification_report(true_labels, pred_labels, digits=4))"
   ]
  },
  {
   "cell_type": "code",
   "execution_count": null,
   "id": "b88a4e3a",
   "metadata": {
    "scrolled": true
   },
   "outputs": [],
   "source": []
  },
  {
   "cell_type": "markdown",
   "id": "90b089a2",
   "metadata": {},
   "source": [
    "# XGBoost"
   ]
  },
  {
   "cell_type": "code",
   "execution_count": 30,
   "id": "9cc27945",
   "metadata": {
    "scrolled": true
   },
   "outputs": [],
   "source": [
    "import xgboost\n",
    "from xgboost import XGBClassifier"
   ]
  },
  {
   "cell_type": "code",
   "execution_count": 31,
   "id": "47102c40",
   "metadata": {
    "scrolled": true
   },
   "outputs": [],
   "source": [
    "param_grid = {'learning_rate': [0.01, 0.2, 0.4],\n",
    "              'n_estimators': [10, 50, 100, 500],\n",
    "              'max_depth': [3, 10],\n",
    "              'subsample': [0.5, 0.7, 0.9],\n",
    "              'colsample_bytree': [0.5, 0.7, 0.9],\n",
    "              'gamma': [0, 0.1, 0.5]}"
   ]
  },
  {
   "cell_type": "code",
   "execution_count": 32,
   "id": "53853d5c",
   "metadata": {
    "scrolled": true
   },
   "outputs": [],
   "source": [
    "true_labels = []\n",
    "pred_labels = []\n",
    "accuracies = []"
   ]
  },
  {
   "cell_type": "code",
   "execution_count": 33,
   "id": "87246121",
   "metadata": {
    "scrolled": true
   },
   "outputs": [],
   "source": [
    "xgb = RandomizedSearchCV(XGBClassifier(), param_distributions=param_grid, n_iter=2, cv=2, random_state=50)"
   ]
  },
  {
   "cell_type": "code",
   "execution_count": 34,
   "id": "841b99bb",
   "metadata": {
    "scrolled": true
   },
   "outputs": [
    {
     "name": "stdout",
     "output_type": "stream",
     "text": [
      "[01:57:58] WARNING: D:\\bld\\xgboost-split_1645118015404\\work\\src\\learner.cc:1115: Starting in XGBoost 1.3.0, the default evaluation metric used with the objective 'binary:logistic' was changed from 'error' to 'logloss'. Explicitly set eval_metric if you'd like to restore the old behavior.\n",
      "[01:57:58] WARNING: D:\\bld\\xgboost-split_1645118015404\\work\\src\\learner.cc:1115: Starting in XGBoost 1.3.0, the default evaluation metric used with the objective 'binary:logistic' was changed from 'error' to 'logloss'. Explicitly set eval_metric if you'd like to restore the old behavior.\n",
      "[01:57:58] WARNING: D:\\bld\\xgboost-split_1645118015404\\work\\src\\learner.cc:1115: Starting in XGBoost 1.3.0, the default evaluation metric used with the objective 'binary:logistic' was changed from 'error' to 'logloss'. Explicitly set eval_metric if you'd like to restore the old behavior.\n",
      "[01:57:58] WARNING: D:\\bld\\xgboost-split_1645118015404\\work\\src\\learner.cc:1115: Starting in XGBoost 1.3.0, the default evaluation metric used with the objective 'binary:logistic' was changed from 'error' to 'logloss'. Explicitly set eval_metric if you'd like to restore the old behavior.\n",
      "[01:57:58] WARNING: D:\\bld\\xgboost-split_1645118015404\\work\\src\\learner.cc:1115: Starting in XGBoost 1.3.0, the default evaluation metric used with the objective 'binary:logistic' was changed from 'error' to 'logloss'. Explicitly set eval_metric if you'd like to restore the old behavior.\n",
      "[01:57:58] WARNING: D:\\bld\\xgboost-split_1645118015404\\work\\src\\learner.cc:1115: Starting in XGBoost 1.3.0, the default evaluation metric used with the objective 'binary:logistic' was changed from 'error' to 'logloss'. Explicitly set eval_metric if you'd like to restore the old behavior.\n",
      "[01:57:58] WARNING: D:\\bld\\xgboost-split_1645118015404\\work\\src\\learner.cc:1115: Starting in XGBoost 1.3.0, the default evaluation metric used with the objective 'binary:logistic' was changed from 'error' to 'logloss'. Explicitly set eval_metric if you'd like to restore the old behavior.\n",
      "[01:57:58] WARNING: D:\\bld\\xgboost-split_1645118015404\\work\\src\\learner.cc:1115: Starting in XGBoost 1.3.0, the default evaluation metric used with the objective 'binary:logistic' was changed from 'error' to 'logloss'. Explicitly set eval_metric if you'd like to restore the old behavior.\n",
      "[01:57:59] WARNING: D:\\bld\\xgboost-split_1645118015404\\work\\src\\learner.cc:1115: Starting in XGBoost 1.3.0, the default evaluation metric used with the objective 'binary:logistic' was changed from 'error' to 'logloss'. Explicitly set eval_metric if you'd like to restore the old behavior.\n",
      "[01:57:59] WARNING: D:\\bld\\xgboost-split_1645118015404\\work\\src\\learner.cc:1115: Starting in XGBoost 1.3.0, the default evaluation metric used with the objective 'binary:logistic' was changed from 'error' to 'logloss'. Explicitly set eval_metric if you'd like to restore the old behavior.\n",
      "[01:57:59] WARNING: D:\\bld\\xgboost-split_1645118015404\\work\\src\\learner.cc:1115: Starting in XGBoost 1.3.0, the default evaluation metric used with the objective 'binary:logistic' was changed from 'error' to 'logloss'. Explicitly set eval_metric if you'd like to restore the old behavior.\n",
      "[01:57:59] WARNING: D:\\bld\\xgboost-split_1645118015404\\work\\src\\learner.cc:1115: Starting in XGBoost 1.3.0, the default evaluation metric used with the objective 'binary:logistic' was changed from 'error' to 'logloss'. Explicitly set eval_metric if you'd like to restore the old behavior.\n",
      "[01:57:59] WARNING: D:\\bld\\xgboost-split_1645118015404\\work\\src\\learner.cc:1115: Starting in XGBoost 1.3.0, the default evaluation metric used with the objective 'binary:logistic' was changed from 'error' to 'logloss'. Explicitly set eval_metric if you'd like to restore the old behavior.\n",
      "[01:57:59] WARNING: D:\\bld\\xgboost-split_1645118015404\\work\\src\\learner.cc:1115: Starting in XGBoost 1.3.0, the default evaluation metric used with the objective 'binary:logistic' was changed from 'error' to 'logloss'. Explicitly set eval_metric if you'd like to restore the old behavior.\n",
      "[01:57:59] WARNING: D:\\bld\\xgboost-split_1645118015404\\work\\src\\learner.cc:1115: Starting in XGBoost 1.3.0, the default evaluation metric used with the objective 'binary:logistic' was changed from 'error' to 'logloss'. Explicitly set eval_metric if you'd like to restore the old behavior.\n",
      "[01:57:59] WARNING: D:\\bld\\xgboost-split_1645118015404\\work\\src\\learner.cc:1115: Starting in XGBoost 1.3.0, the default evaluation metric used with the objective 'binary:logistic' was changed from 'error' to 'logloss'. Explicitly set eval_metric if you'd like to restore the old behavior.\n",
      "[01:57:59] WARNING: D:\\bld\\xgboost-split_1645118015404\\work\\src\\learner.cc:1115: Starting in XGBoost 1.3.0, the default evaluation metric used with the objective 'binary:logistic' was changed from 'error' to 'logloss'. Explicitly set eval_metric if you'd like to restore the old behavior.\n",
      "[01:57:59] WARNING: D:\\bld\\xgboost-split_1645118015404\\work\\src\\learner.cc:1115: Starting in XGBoost 1.3.0, the default evaluation metric used with the objective 'binary:logistic' was changed from 'error' to 'logloss'. Explicitly set eval_metric if you'd like to restore the old behavior.\n",
      "[01:57:59] WARNING: D:\\bld\\xgboost-split_1645118015404\\work\\src\\learner.cc:1115: Starting in XGBoost 1.3.0, the default evaluation metric used with the objective 'binary:logistic' was changed from 'error' to 'logloss'. Explicitly set eval_metric if you'd like to restore the old behavior.\n",
      "[01:57:59] WARNING: D:\\bld\\xgboost-split_1645118015404\\work\\src\\learner.cc:1115: Starting in XGBoost 1.3.0, the default evaluation metric used with the objective 'binary:logistic' was changed from 'error' to 'logloss'. Explicitly set eval_metric if you'd like to restore the old behavior.\n",
      "[01:57:59] WARNING: D:\\bld\\xgboost-split_1645118015404\\work\\src\\learner.cc:1115: Starting in XGBoost 1.3.0, the default evaluation metric used with the objective 'binary:logistic' was changed from 'error' to 'logloss'. Explicitly set eval_metric if you'd like to restore the old behavior.\n",
      "[01:57:59] WARNING: D:\\bld\\xgboost-split_1645118015404\\work\\src\\learner.cc:1115: Starting in XGBoost 1.3.0, the default evaluation metric used with the objective 'binary:logistic' was changed from 'error' to 'logloss'. Explicitly set eval_metric if you'd like to restore the old behavior.\n",
      "[01:57:59] WARNING: D:\\bld\\xgboost-split_1645118015404\\work\\src\\learner.cc:1115: Starting in XGBoost 1.3.0, the default evaluation metric used with the objective 'binary:logistic' was changed from 'error' to 'logloss'. Explicitly set eval_metric if you'd like to restore the old behavior.\n",
      "[01:58:00] WARNING: D:\\bld\\xgboost-split_1645118015404\\work\\src\\learner.cc:1115: Starting in XGBoost 1.3.0, the default evaluation metric used with the objective 'binary:logistic' was changed from 'error' to 'logloss'. Explicitly set eval_metric if you'd like to restore the old behavior.\n",
      "[01:58:00] WARNING: D:\\bld\\xgboost-split_1645118015404\\work\\src\\learner.cc:1115: Starting in XGBoost 1.3.0, the default evaluation metric used with the objective 'binary:logistic' was changed from 'error' to 'logloss'. Explicitly set eval_metric if you'd like to restore the old behavior.\n"
     ]
    }
   ],
   "source": [
    "with warnings.catch_warnings():\n",
    "    warnings.simplefilter(\"ignore\")\n",
    "    \n",
    "    for train_index, test_index in skf.split(X_scaled, y):\n",
    "        X_train, X_test = X_scaled[train_index], X_scaled[test_index]\n",
    "        y_train, y_test = y[train_index], y[test_index]\n",
    "    \n",
    "        X_train = scaler.fit_transform(X_train)\n",
    "        X_test = scaler.transform(X_test)\n",
    "\n",
    "        xgb.fit(X_train, y_train)\n",
    "        prediction_xgb = xgb.predict(X_test)\n",
    "    \n",
    "        true_labels.extend(y_test)\n",
    "        pred_labels.extend(prediction_xgb)\n",
    "    \n",
    "        accuracy = accuracy_score(y_test, prediction_xgb)\n",
    "        accuracies.append(accuracy)"
   ]
  },
  {
   "cell_type": "code",
   "execution_count": 35,
   "id": "df7045c8",
   "metadata": {
    "scrolled": true
   },
   "outputs": [
    {
     "name": "stdout",
     "output_type": "stream",
     "text": [
      "best parameters:  XGBClassifier(base_score=0.5, booster='gbtree', colsample_bylevel=1,\n",
      "              colsample_bynode=1, colsample_bytree=0.5,\n",
      "              enable_categorical=False, gamma=0.1, gpu_id=-1,\n",
      "              importance_type=None, interaction_constraints='',\n",
      "              learning_rate=0.2, max_delta_step=0, max_depth=10,\n",
      "              min_child_weight=1, missing=nan, monotone_constraints='()',\n",
      "              n_estimators=10, n_jobs=8, num_parallel_tree=1, predictor='auto',\n",
      "              random_state=0, reg_alpha=0, reg_lambda=1, scale_pos_weight=1,\n",
      "              subsample=0.7, tree_method='exact', validate_parameters=1,\n",
      "              verbosity=None)\n"
     ]
    }
   ],
   "source": [
    "best_params = xgb.best_estimator_\n",
    "print(\"best parameters: \", best_params)"
   ]
  },
  {
   "cell_type": "code",
   "execution_count": 36,
   "id": "bf0a0cbc",
   "metadata": {
    "scrolled": true
   },
   "outputs": [
    {
     "name": "stdout",
     "output_type": "stream",
     "text": [
      "5-fold Accuracies [0.9876007439553627, 0.9854308741475512, 0.986050836949783, 0.9885271317829457, 0.9851162790697674]\n",
      "Mean Accuracy 0.986545173181082\n"
     ]
    }
   ],
   "source": [
    "print('5-fold Accuracies', accuracies)\n",
    "print('Mean Accuracy', np.mean(accuracies))"
   ]
  },
  {
   "cell_type": "code",
   "execution_count": 37,
   "id": "d90c1a6a",
   "metadata": {
    "scrolled": true
   },
   "outputs": [
    {
     "name": "stdout",
     "output_type": "stream",
     "text": [
      "Accuracy of XGBoost classifier: 0.9865\n",
      "Total testing data : 16128\n",
      "True Positive:  6271\n",
      "True Negative:  9640\n",
      "False Positive:  146\n",
      "Flase Negative:  71\n",
      "              precision    recall  f1-score   support\n",
      "\n",
      "           0     0.9888    0.9772    0.9830      6417\n",
      "           1     0.9851    0.9927    0.9889      9711\n",
      "\n",
      "    accuracy                         0.9865     16128\n",
      "   macro avg     0.9869    0.9850    0.9859     16128\n",
      "weighted avg     0.9866    0.9865    0.9865     16128\n",
      "\n"
     ]
    }
   ],
   "source": [
    "print('Accuracy of XGBoost classifier: {:.4f}'.format(accuracy_score(true_labels, pred_labels)))\n",
    "C = confusion_matrix(true_labels, pred_labels)\n",
    "print('Total testing data :', C[0][0] + C[0][1] + C[1][0] + C[1][1])\n",
    "print('True Positive: ', C[0][0])\n",
    "print('True Negative: ', C[1][1])\n",
    "print('False Positive: ', C[0][1])\n",
    "print('Flase Negative: ', C[1][0])\n",
    "print(classification_report(true_labels, pred_labels, digits=4))"
   ]
  },
  {
   "cell_type": "code",
   "execution_count": null,
   "id": "42bc3ada",
   "metadata": {
    "scrolled": true
   },
   "outputs": [],
   "source": []
  },
  {
   "cell_type": "markdown",
   "id": "a0741d0e",
   "metadata": {},
   "source": [
    "# K-Nearest Neighbor Classifier"
   ]
  },
  {
   "cell_type": "code",
   "execution_count": 38,
   "id": "0bae8b34",
   "metadata": {
    "scrolled": true
   },
   "outputs": [],
   "source": [
    "from sklearn.neighbors import KNeighborsClassifier"
   ]
  },
  {
   "cell_type": "code",
   "execution_count": 39,
   "id": "b3aa089c",
   "metadata": {
    "scrolled": true
   },
   "outputs": [],
   "source": [
    "param_grid = {'n_neighbors': [2, 5, 10],\n",
    "              'weights': ['uniform', 'distance'],\n",
    "              'p': [1, 2]}"
   ]
  },
  {
   "cell_type": "code",
   "execution_count": 40,
   "id": "1637efd6",
   "metadata": {
    "scrolled": true
   },
   "outputs": [],
   "source": [
    "true_labels = [] \n",
    "pred_labels = []\n",
    "accuracies = []"
   ]
  },
  {
   "cell_type": "code",
   "execution_count": 41,
   "id": "b7694321",
   "metadata": {},
   "outputs": [],
   "source": [
    "knn = RandomizedSearchCV(KNeighborsClassifier(), param_distributions=param_grid, n_iter=2, cv=2, random_state=50)"
   ]
  },
  {
   "cell_type": "code",
   "execution_count": 42,
   "id": "d10f189e",
   "metadata": {
    "scrolled": true
   },
   "outputs": [],
   "source": [
    "with warnings.catch_warnings():\n",
    "    warnings.simplefilter(\"ignore\")\n",
    "    \n",
    "    for train_index, test_index in skf.split(X_scaled, y):\n",
    "        X_train, X_test = X_scaled[train_index], X_scaled[test_index]\n",
    "        y_train, y_test = y[train_index], y[test_index]\n",
    "    \n",
    "        X_train = scaler.fit_transform(X_train)\n",
    "        X_test = scaler.transform(X_test)\n",
    "\n",
    "        knn.fit(X_train, y_train)\n",
    "        prediction_knn = knn.predict(X_test)\n",
    "    \n",
    "        true_labels.extend(y_test)\n",
    "        pred_labels.extend(prediction_knn)\n",
    "    \n",
    "        accuracy = accuracy_score(y_test, prediction_knn)\n",
    "        accuracies.append(accuracy)"
   ]
  },
  {
   "cell_type": "code",
   "execution_count": 43,
   "id": "ce429ab0",
   "metadata": {},
   "outputs": [
    {
     "name": "stdout",
     "output_type": "stream",
     "text": [
      "best parameters:  KNeighborsClassifier(n_neighbors=10, p=1, weights='distance')\n"
     ]
    }
   ],
   "source": [
    "best_params = knn.best_estimator_\n",
    "print(\"best parameters: \", best_params)"
   ]
  },
  {
   "cell_type": "code",
   "execution_count": 44,
   "id": "f0c4c2c3",
   "metadata": {
    "scrolled": false
   },
   "outputs": [
    {
     "name": "stdout",
     "output_type": "stream",
     "text": [
      "5-fold Accuracies [0.9733415995040298, 0.9776813391196528, 0.9733415995040298, 0.9733333333333334, 0.9742635658914729]\n",
      "Mean Accuracy 0.9743922874705037\n"
     ]
    }
   ],
   "source": [
    "print('5-fold Accuracies', accuracies)\n",
    "print('Mean Accuracy', np.mean(accuracies))"
   ]
  },
  {
   "cell_type": "code",
   "execution_count": 45,
   "id": "03e8a2d8",
   "metadata": {
    "scrolled": true
   },
   "outputs": [
    {
     "name": "stdout",
     "output_type": "stream",
     "text": [
      "Accuracy of K-Nearest Neighbor classifier: 0.9744\n",
      "Total testing data : 16128\n",
      "True Positive:  6200\n",
      "True Negative:  9515\n",
      "False Positive:  217\n",
      "Flase Negative:  196\n",
      "              precision    recall  f1-score   support\n",
      "\n",
      "           0     0.9694    0.9662    0.9678      6417\n",
      "           1     0.9777    0.9798    0.9788      9711\n",
      "\n",
      "    accuracy                         0.9744     16128\n",
      "   macro avg     0.9735    0.9730    0.9733     16128\n",
      "weighted avg     0.9744    0.9744    0.9744     16128\n",
      "\n"
     ]
    }
   ],
   "source": [
    "print('Accuracy of K-Nearest Neighbor classifier: {:.4f}'.format(accuracy_score(true_labels, pred_labels)))\n",
    "D = confusion_matrix(true_labels, pred_labels)\n",
    "print('Total testing data :', D[0][0] + D[0][1] + D[1][0] + D[1][1])\n",
    "print('True Positive: ', D[0][0])\n",
    "print('True Negative: ', D[1][1])\n",
    "print('False Positive: ', D[0][1])\n",
    "print('Flase Negative: ', D[1][0])\n",
    "print(classification_report(true_labels, pred_labels, digits=4))"
   ]
  },
  {
   "cell_type": "code",
   "execution_count": null,
   "id": "3c52ed52",
   "metadata": {
    "scrolled": true
   },
   "outputs": [],
   "source": []
  },
  {
   "cell_type": "markdown",
   "id": "e3bfd378",
   "metadata": {},
   "source": [
    "# Support Vector Classifier"
   ]
  },
  {
   "cell_type": "code",
   "execution_count": 46,
   "id": "64853c19",
   "metadata": {
    "scrolled": true
   },
   "outputs": [],
   "source": [
    "from sklearn import svm\n",
    "from sklearn.svm import SVC"
   ]
  },
  {
   "cell_type": "code",
   "execution_count": 47,
   "id": "82be5fd2",
   "metadata": {},
   "outputs": [],
   "source": [
    "param_grid = {'C': [0.1, 1, 10],\n",
    "              'kernel': ['linear', 'poly', 'rbf', 'sigmoid']}\n",
    "              #'degree': [2, 3, 4], gamma': ['scale', 'auto', 0.1, 0.5, 1.0]}"
   ]
  },
  {
   "cell_type": "code",
   "execution_count": 48,
   "id": "c5c63909",
   "metadata": {
    "scrolled": true
   },
   "outputs": [],
   "source": [
    "true_labels = []\n",
    "pred_labels = []\n",
    "accuracies = []"
   ]
  },
  {
   "cell_type": "code",
   "execution_count": 49,
   "id": "66c48fe9",
   "metadata": {},
   "outputs": [],
   "source": [
    "svm = RandomizedSearchCV(svm.SVC(probability=True), param_distributions=param_grid, n_iter=2, cv=2, random_state=50)"
   ]
  },
  {
   "cell_type": "code",
   "execution_count": 50,
   "id": "01ca4abb",
   "metadata": {
    "scrolled": true
   },
   "outputs": [],
   "source": [
    "with warnings.catch_warnings():\n",
    "    warnings.simplefilter(\"ignore\")\n",
    "    \n",
    "    for train_index, test_index in skf.split(X_scaled, y):\n",
    "        X_train, X_test = X_scaled[train_index], X_scaled[test_index]\n",
    "        y_train, y_test = y[train_index], y[test_index]\n",
    "    \n",
    "        X_train = scaler.fit_transform(X_train)\n",
    "        X_test = scaler.transform(X_test)\n",
    "\n",
    "        svm.fit(X_train, y_train)\n",
    "        prediction_svm = svm.predict(X_test)\n",
    "    \n",
    "        true_labels.extend(y_test)\n",
    "        pred_labels.extend(prediction_svm)\n",
    "    \n",
    "        accuracy = accuracy_score(y_test, prediction_svm)\n",
    "        accuracies.append(accuracy)"
   ]
  },
  {
   "cell_type": "code",
   "execution_count": 51,
   "id": "ab67125b",
   "metadata": {},
   "outputs": [
    {
     "name": "stdout",
     "output_type": "stream",
     "text": [
      "best parameters:  SVC(C=10, kernel='poly', probability=True)\n"
     ]
    }
   ],
   "source": [
    "best_params = svm.best_estimator_\n",
    "print(\"best parameters: \", best_params)"
   ]
  },
  {
   "cell_type": "code",
   "execution_count": 52,
   "id": "ab00e5a4",
   "metadata": {
    "scrolled": true
   },
   "outputs": [
    {
     "name": "stdout",
     "output_type": "stream",
     "text": [
      "5-fold Accuracies [0.963112213267204, 0.9668319900805952, 0.9652820830750155, 0.9537984496124031, 0.9568992248062016]\n",
      "Mean Accuracy 0.9611847921682838\n"
     ]
    }
   ],
   "source": [
    "print('5-fold Accuracies', accuracies)\n",
    "print('Mean Accuracy', np.mean(accuracies))"
   ]
  },
  {
   "cell_type": "code",
   "execution_count": 53,
   "id": "f2e2cc9d",
   "metadata": {
    "scrolled": false
   },
   "outputs": [
    {
     "name": "stdout",
     "output_type": "stream",
     "text": [
      "Accuracy of Support Vector classifier: 0.9612\n",
      "Total testing data : 16128\n",
      "True Positive:  6152\n",
      "True Negative:  9350\n",
      "False Positive:  265\n",
      "Flase Negative:  361\n",
      "              precision    recall  f1-score   support\n",
      "\n",
      "           0     0.9446    0.9587    0.9516      6417\n",
      "           1     0.9724    0.9628    0.9676      9711\n",
      "\n",
      "    accuracy                         0.9612     16128\n",
      "   macro avg     0.9585    0.9608    0.9596     16128\n",
      "weighted avg     0.9614    0.9612    0.9612     16128\n",
      "\n"
     ]
    }
   ],
   "source": [
    "print('Accuracy of Support Vector classifier: {:.4f}'.format(accuracy_score(true_labels, pred_labels)))\n",
    "E = confusion_matrix(true_labels, pred_labels)\n",
    "print('Total testing data :', E[0][0] + E[0][1] + E[1][0] + E[1][1])\n",
    "print('True Positive: ', E[0][0])\n",
    "print('True Negative: ', E[1][1])\n",
    "print('False Positive: ', E[0][1])\n",
    "print('Flase Negative: ', E[1][0])\n",
    "print(classification_report(true_labels, pred_labels, digits=4))"
   ]
  },
  {
   "cell_type": "code",
   "execution_count": null,
   "id": "8e0ddb35",
   "metadata": {
    "scrolled": true
   },
   "outputs": [],
   "source": []
  },
  {
   "cell_type": "markdown",
   "id": "89084ba7",
   "metadata": {},
   "source": [
    "# Multi-layer Perceptron"
   ]
  },
  {
   "cell_type": "code",
   "execution_count": 54,
   "id": "ca2d2806",
   "metadata": {
    "scrolled": true
   },
   "outputs": [],
   "source": [
    "from sklearn.neural_network import MLPClassifier"
   ]
  },
  {
   "cell_type": "code",
   "execution_count": 55,
   "id": "bfb09c88",
   "metadata": {},
   "outputs": [],
   "source": [
    "param_grid = {'hidden_layer_sizes': [(100,), (50, 50)],\n",
    "              'activation': ['logistic', 'tanh', 'relu'],\n",
    "              'solver': ['sgd', 'adam'], \n",
    "              'alpha': [0.0001, 0.001],\n",
    "              'learning_rate': ['constant', 'invscaling', 'adaptive'],\n",
    "              'max_iter': [100, 300]}"
   ]
  },
  {
   "cell_type": "code",
   "execution_count": 56,
   "id": "60c73cfe",
   "metadata": {
    "scrolled": true
   },
   "outputs": [],
   "source": [
    "true_labels = []\n",
    "pred_labels = []\n",
    "accuracies = []"
   ]
  },
  {
   "cell_type": "code",
   "execution_count": 57,
   "id": "de72a35a",
   "metadata": {},
   "outputs": [],
   "source": [
    "mlp = RandomizedSearchCV(MLPClassifier(), param_distributions=param_grid, n_iter=2, cv=2, random_state=50)"
   ]
  },
  {
   "cell_type": "code",
   "execution_count": 58,
   "id": "c4b90e81",
   "metadata": {
    "scrolled": true
   },
   "outputs": [],
   "source": [
    "with warnings.catch_warnings():\n",
    "    warnings.simplefilter(\"ignore\")\n",
    "    \n",
    "    for train_index, test_index in skf.split(X_scaled, y):\n",
    "        X_train, X_test = X_scaled[train_index], X_scaled[test_index]\n",
    "        y_train, y_test = y[train_index], y[test_index]\n",
    "        \n",
    "        X_train = scaler.fit_transform(X_train)\n",
    "        X_test = scaler.transform(X_test)\n",
    "    \n",
    "        mlp.fit(X_train, y_train)\n",
    "        prediction_mlp = mlp.predict(X_test)\n",
    "    \n",
    "        true_labels.extend(y_test)\n",
    "        pred_labels.extend(prediction_mlp)\n",
    "    \n",
    "        accuracy = accuracy_score(y_test, prediction_mlp)\n",
    "        accuracies.append(accuracy)"
   ]
  },
  {
   "cell_type": "code",
   "execution_count": 59,
   "id": "8d67f85c",
   "metadata": {},
   "outputs": [
    {
     "name": "stdout",
     "output_type": "stream",
     "text": [
      "best parameters:  SVC(C=10, kernel='poly', probability=True)\n"
     ]
    }
   ],
   "source": [
    "best_params = svm.best_estimator_\n",
    "print(\"best parameters: \", best_params)"
   ]
  },
  {
   "cell_type": "code",
   "execution_count": 60,
   "id": "bcc51cc7",
   "metadata": {
    "scrolled": true
   },
   "outputs": [
    {
     "name": "stdout",
     "output_type": "stream",
     "text": [
      "5-fold Accuracies [0.9494730316181029, 0.953812771233726, 0.9510229386236826, 0.9441860465116279, 0.9386046511627907]\n",
      "Mean Accuracy 0.9474198878299861\n"
     ]
    }
   ],
   "source": [
    "print('5-fold Accuracies', accuracies)\n",
    "print('Mean Accuracy', np.mean(accuracies))"
   ]
  },
  {
   "cell_type": "code",
   "execution_count": 61,
   "id": "de26d00a",
   "metadata": {
    "scrolled": true
   },
   "outputs": [
    {
     "name": "stdout",
     "output_type": "stream",
     "text": [
      "Accuracy of Support Vector classifier: 0.9474\n",
      "Total testing data : 16128\n",
      "True Positive:  6035\n",
      "True Negative:  9245\n",
      "False Positive:  382\n",
      "Flase Negative:  466\n",
      "              precision    recall  f1-score   support\n",
      "\n",
      "           0     0.9283    0.9405    0.9344      6417\n",
      "           1     0.9603    0.9520    0.9561      9711\n",
      "\n",
      "    accuracy                         0.9474     16128\n",
      "   macro avg     0.9443    0.9462    0.9453     16128\n",
      "weighted avg     0.9476    0.9474    0.9475     16128\n",
      "\n"
     ]
    }
   ],
   "source": [
    "print('Accuracy of Support Vector classifier: {:.4f}'.format(accuracy_score(true_labels, pred_labels)))\n",
    "F = confusion_matrix(true_labels, pred_labels)\n",
    "print('Total testing data :', F[0][0] + F[0][1] + F[1][0] + F[1][1])\n",
    "print('True Positive: ', F[0][0])\n",
    "print('True Negative: ', F[1][1])\n",
    "print('False Positive: ', F[0][1])\n",
    "print('Flase Negative: ', F[1][0])\n",
    "print(classification_report(true_labels, pred_labels, digits=4))"
   ]
  },
  {
   "cell_type": "code",
   "execution_count": null,
   "id": "25e04507",
   "metadata": {
    "scrolled": true
   },
   "outputs": [],
   "source": []
  },
  {
   "cell_type": "markdown",
   "id": "b64b5d7c",
   "metadata": {},
   "source": [
    "# ROC Curve"
   ]
  },
  {
   "cell_type": "code",
   "execution_count": 62,
   "id": "ffcb6e1e",
   "metadata": {
    "scrolled": false
   },
   "outputs": [
    {
     "data": {
      "image/png": "[encoded data removed]",
      "text/plain": [
       "<Figure size 1200x900 with 1 Axes>"
      ]
     },
     "metadata": {
      "needs_background": "light"
     },
     "output_type": "display_data"
    }
   ],
   "source": [
    "import matplotlib.pyplot as plt\n",
    "from sklearn.metrics import roc_auc_score, roc_curve\n",
    "\n",
    "models = [lr, rf, xgb, knn, svm, mlp]\n",
    "model_names = ['LR', 'RF', 'XGB', 'KNN', 'SVM', 'MLP']\n",
    "\n",
    "plt.figure(figsize=(8, 6), dpi= 150)\n",
    "\n",
    "for model, name in zip(models, model_names):\n",
    "    if hasattr(model, \"predict_proba\"):\n",
    "        probs = model.predict_proba(X_scaled)[:, 1]\n",
    "        auc = roc_auc_score(y, probs)\n",
    "        fpr, tpr, _ = roc_curve(y, probs)\n",
    "        plt.plot(fpr, tpr, label='%s (AUROC = %0.4f)' % (name, auc))\n",
    "\n",
    "plt.plot([0, 1], [0, 1], linestyle='--', label='Random')\n",
    "plt.xlabel('False Positive Rate')\n",
    "plt.ylabel('True Positive Rate')\n",
    "plt.legend()\n",
    "plt.show()"
   ]
  },
  {
   "cell_type": "markdown",
   "id": "8d6c58d2",
   "metadata": {},
   "source": [
    "From the ROC curve, we can see that Random Forest is erforming the best among the evaluated classifiers, as is exhibits the highest \"Area Under the ROC Curve\" $(AUROC=99.99\\%)$ compared to other models. This indicates that Random Forest achieves a better balance between true positive rate and false positive rate across various threshold values, making it more effective in distinguishing between the positive and negative classes in the dataset."
   ]
  },
  {
   "cell_type": "code",
   "execution_count": null,
   "id": "b0cadcac",
   "metadata": {
    "scrolled": true
   },
   "outputs": [],
   "source": []
  }
 ],
 "metadata": {
  "kernelspec": {
   "display_name": "Python 3 (ipykernel)",
   "language": "python",
   "name": "python3"
  },
  "language_info": {
   "codemirror_mode": {
    "name": "ipython",
    "version": 3
   },
   "file_extension": ".py",
   "mimetype": "text/x-python",
   "name": "python",
   "nbconvert_exporter": "python",
   "pygments_lexer": "ipython3",
   "version": "3.9.7"
  }
 },
 "nbformat": 4,
 "nbformat_minor": 5
}
