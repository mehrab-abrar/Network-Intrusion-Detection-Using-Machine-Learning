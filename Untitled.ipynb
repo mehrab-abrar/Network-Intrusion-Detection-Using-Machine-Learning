{
 "cells": [
  {
   "cell_type": "code",
   "execution_count": 2,
   "id": "e302a536",
   "metadata": {},
   "outputs": [
    {
     "name": "stdout",
     "output_type": "stream",
     "text": [
      "Modified dataset saved to: network_intrusion_dataset.csv\n"
     ]
    }
   ],
   "source": [
    "import pandas as pd\n",
    "\n",
    "# Assuming your dataset is stored in a DataFrame called 'data'\n",
    "# Replace 'your_dataset.csv' with the actual path to your dataset file\n",
    "data = pd.read_csv('networkintrusion.csv')\n",
    "\n",
    "# Filter rows where the \"class\" column is \"anomaly\"\n",
    "anomaly_rows = data[data['class'] == 'anomaly']\n",
    "\n",
    "# Calculate the number of rows to remove (40% of the total anomaly rows)\n",
    "rows_to_remove = int(0.5 * len(anomaly_rows))\n",
    "\n",
    "# Randomly select and remove 40% of the anomaly rows\n",
    "removed_rows_indices = anomaly_rows.sample(n=rows_to_remove, random_state=42).index\n",
    "data = data.drop(removed_rows_indices)\n",
    "\n",
    "# Save the modified dataset to a new CSV file\n",
    "modified_dataset_filename = 'network_intrusion_dataset.csv'\n",
    "data.to_csv(modified_dataset_filename, index=False)\n",
    "\n",
    "print(\"Modified dataset saved to:\", modified_dataset_filename)"
   ]
  },
  {
   "cell_type": "code",
   "execution_count": null,
   "id": "ce3c12b7",
   "metadata": {},
   "outputs": [],
   "source": []
  }
 ],
 "metadata": {
  "kernelspec": {
   "display_name": "Python 3 (ipykernel)",
   "language": "python",
   "name": "python3"
  },
  "language_info": {
   "codemirror_mode": {
    "name": "ipython",
    "version": 3
   },
   "file_extension": ".py",
   "mimetype": "text/x-python",
   "name": "python",
   "nbconvert_exporter": "python",
   "pygments_lexer": "ipython3",
   "version": "3.9.7"
  }
 },
 "nbformat": 4,
 "nbformat_minor": 5
}
